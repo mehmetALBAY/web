{
 "cells": [
  {
   "cell_type": "markdown",
   "metadata": {},
   "source": [
    "# How to classify MedicalNIST fast?\n",
    "\n",
    "Quick answer is: Use fast.ai v2\n",
    "\n",
    "Based on L5"
   ]
  },
  {
   "cell_type": "code",
   "execution_count": 1,
   "metadata": {},
   "outputs": [
    {
     "name": "stdout",
     "output_type": "stream",
     "text": [
      "Cloning into 'Medical-MNIST-Classification'...\n",
      "remote: Enumerating objects: 58532, done.\u001b[K\n",
      "remote: Total 58532 (delta 0), reused 0 (delta 0), pack-reused 58532\u001b[K\n",
      "Receiving objects: 100% (58532/58532), 77.86 MiB | 1.30 MiB/s, done.\n",
      "Resolving deltas: 100% (506/506), done.\n",
      "Checking connectivity... done.\n",
      "Checking out files: 100% (58959/58959), done.\n"
     ]
    }
   ],
   "source": [
    "! git clone https://github.com/apolanco3225/Medical-MNIST-Classification.git\n",
    "! mv Medical-MNIST-Classification/resized/ ./medical_mnist\n",
    "! rm -rf Medical-MNIST-Classification"
   ]
  },
  {
   "cell_type": "code",
   "execution_count": 2,
   "metadata": {},
   "outputs": [
    {
     "name": "stdout",
     "output_type": "stream",
     "text": [
      "Requirement already satisfied: fastai2 in /opt/conda/envs/fastai/lib/python3.7/site-packages (0.0.17)\n",
      "Requirement already satisfied: torch in /opt/conda/envs/fastai/lib/python3.7/site-packages (1.5.0)\n",
      "Requirement already satisfied: torchvision in /opt/conda/envs/fastai/lib/python3.7/site-packages (0.6.0)\n",
      "Requirement already satisfied: fastcore in /opt/conda/envs/fastai/lib/python3.7/site-packages (from fastai2) (0.1.17)\n",
      "Requirement already satisfied: fastprogress>=0.1.22 in /opt/conda/envs/fastai/lib/python3.7/site-packages (from fastai2) (0.2.2)\n",
      "Requirement already satisfied: matplotlib in /opt/conda/envs/fastai/lib/python3.7/site-packages (from fastai2) (3.2.0)\n",
      "Requirement already satisfied: pyyaml in /opt/conda/envs/fastai/lib/python3.7/site-packages (from fastai2) (5.3)\n",
      "Requirement already satisfied: scikit-learn in /opt/conda/envs/fastai/lib/python3.7/site-packages (from fastai2) (0.22.2.post1)\n",
      "Requirement already satisfied: pillow in /opt/conda/envs/fastai/lib/python3.7/site-packages (from fastai2) (7.0.0)\n",
      "Requirement already satisfied: pandas in /opt/conda/envs/fastai/lib/python3.7/site-packages (from fastai2) (1.0.2)\n",
      "Requirement already satisfied: requests in /opt/conda/envs/fastai/lib/python3.7/site-packages (from fastai2) (2.23.0)\n",
      "Requirement already satisfied: spacy in /opt/conda/envs/fastai/lib/python3.7/site-packages (from fastai2) (2.2.3)\n",
      "Requirement already satisfied: scipy in /opt/conda/envs/fastai/lib/python3.7/site-packages (from fastai2) (1.4.1)\n",
      "Requirement already satisfied: future in /opt/conda/envs/fastai/lib/python3.7/site-packages (from torch) (0.18.2)\n",
      "Requirement already satisfied: numpy in /opt/conda/envs/fastai/lib/python3.7/site-packages (from torch) (1.18.1)\n",
      "Requirement already satisfied: pyparsing!=2.0.4,!=2.1.2,!=2.1.6,>=2.0.1 in /opt/conda/envs/fastai/lib/python3.7/site-packages (from matplotlib->fastai2) (2.4.6)\n",
      "Requirement already satisfied: kiwisolver>=1.0.1 in /opt/conda/envs/fastai/lib/python3.7/site-packages (from matplotlib->fastai2) (1.1.0)\n",
      "Requirement already satisfied: cycler>=0.10 in /opt/conda/envs/fastai/lib/python3.7/site-packages (from matplotlib->fastai2) (0.10.0)\n",
      "Requirement already satisfied: python-dateutil>=2.1 in /opt/conda/envs/fastai/lib/python3.7/site-packages (from matplotlib->fastai2) (2.8.1)\n",
      "Requirement already satisfied: joblib>=0.11 in /opt/conda/envs/fastai/lib/python3.7/site-packages (from scikit-learn->fastai2) (0.14.1)\n",
      "Requirement already satisfied: pytz>=2017.2 in /opt/conda/envs/fastai/lib/python3.7/site-packages (from pandas->fastai2) (2019.3)\n",
      "Requirement already satisfied: idna<3,>=2.5 in /opt/conda/envs/fastai/lib/python3.7/site-packages (from requests->fastai2) (2.9)\n",
      "Requirement already satisfied: certifi>=2017.4.17 in /opt/conda/envs/fastai/lib/python3.7/site-packages (from requests->fastai2) (2019.11.28)\n",
      "Requirement already satisfied: urllib3!=1.25.0,!=1.25.1,<1.26,>=1.21.1 in /opt/conda/envs/fastai/lib/python3.7/site-packages (from requests->fastai2) (1.25.7)\n",
      "Requirement already satisfied: chardet<4,>=3.0.2 in /opt/conda/envs/fastai/lib/python3.7/site-packages (from requests->fastai2) (3.0.4)\n",
      "Requirement already satisfied: wasabi<1.1.0,>=0.4.0 in /opt/conda/envs/fastai/lib/python3.7/site-packages (from spacy->fastai2) (0.6.0)\n",
      "Requirement already satisfied: plac<1.2.0,>=0.9.6 in /opt/conda/envs/fastai/lib/python3.7/site-packages (from spacy->fastai2) (0.9.6)\n",
      "Requirement already satisfied: srsly<1.1.0,>=0.1.0 in /opt/conda/envs/fastai/lib/python3.7/site-packages (from spacy->fastai2) (1.0.0)\n",
      "Requirement already satisfied: cymem<2.1.0,>=2.0.2 in /opt/conda/envs/fastai/lib/python3.7/site-packages (from spacy->fastai2) (2.0.3)\n",
      "Requirement already satisfied: thinc<7.4.0,>=7.3.0 in /opt/conda/envs/fastai/lib/python3.7/site-packages (from spacy->fastai2) (7.3.0)\n",
      "Requirement already satisfied: blis<0.5.0,>=0.4.0 in /opt/conda/envs/fastai/lib/python3.7/site-packages (from spacy->fastai2) (0.4.1)\n",
      "Requirement already satisfied: catalogue<1.1.0,>=0.0.7 in /opt/conda/envs/fastai/lib/python3.7/site-packages (from spacy->fastai2) (1.0.0)\n",
      "Requirement already satisfied: setuptools in /opt/conda/envs/fastai/lib/python3.7/site-packages (from spacy->fastai2) (46.0.0.post20200311)\n",
      "Requirement already satisfied: murmurhash<1.1.0,>=0.28.0 in /opt/conda/envs/fastai/lib/python3.7/site-packages (from spacy->fastai2) (1.0.0)\n",
      "Requirement already satisfied: preshed<3.1.0,>=3.0.2 in /opt/conda/envs/fastai/lib/python3.7/site-packages (from spacy->fastai2) (3.0.2)\n",
      "Requirement already satisfied: six in /opt/conda/envs/fastai/lib/python3.7/site-packages (from cycler>=0.10->matplotlib->fastai2) (1.14.0)\n",
      "Requirement already satisfied: tqdm<5.0.0,>=4.10.0 in /opt/conda/envs/fastai/lib/python3.7/site-packages (from thinc<7.4.0,>=7.3.0->spacy->fastai2) (4.43.0)\n",
      "Requirement already satisfied: importlib-metadata>=0.20; python_version < \"3.8\" in /opt/conda/envs/fastai/lib/python3.7/site-packages (from catalogue<1.1.0,>=0.0.7->spacy->fastai2) (1.5.0)\n",
      "Requirement already satisfied: zipp>=0.5 in /opt/conda/envs/fastai/lib/python3.7/site-packages (from importlib-metadata>=0.20; python_version < \"3.8\"->catalogue<1.1.0,>=0.0.7->spacy->fastai2) (3.1.0)\n"
     ]
    }
   ],
   "source": [
    "# run this to install necessary libraries\n",
    "!pip install fastai2 torch torchvision"
   ]
  },
  {
   "cell_type": "code",
   "execution_count": 3,
   "metadata": {},
   "outputs": [],
   "source": [
    "from fastai2.vision.all import *\n",
    "from utils import *"
   ]
  },
  {
   "cell_type": "code",
   "execution_count": null,
   "metadata": {},
   "outputs": [],
   "source": []
  }
 ],
 "metadata": {
  "kernelspec": {
   "display_name": "Python 3",
   "language": "python",
   "name": "python3"
  },
  "language_info": {
   "codemirror_mode": {
    "name": "ipython",
    "version": 3
   },
   "file_extension": ".py",
   "mimetype": "text/x-python",
   "name": "python",
   "nbconvert_exporter": "python",
   "pygments_lexer": "ipython3",
   "version": "3.7.6"
  }
 },
 "nbformat": 4,
 "nbformat_minor": 4
}
